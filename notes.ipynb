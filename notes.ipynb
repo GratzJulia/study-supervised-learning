{
 "cells": [
  {
   "cell_type": "markdown",
   "id": "1bbd47ba",
   "metadata": {},
   "source": [
    "# Aprendizado Supervisionado"
   ]
  },
  {
   "cell_type": "markdown",
   "id": "3ed8494f",
   "metadata": {},
   "source": [
    "### Tipos de Aprendizado Supervisionado:\n",
    "- Classificação: prevê o rótulo/categoria de uma observação.\n",
    "- Regressão: prevê valores contínuos.\n",
    "\n",
    "### Notação:\n",
    "> característica (feature) = variável preditora = variável independente\n",
    "\n",
    "> variável alvo (target) = variável de resposta = variável dependente\n",
    "\n",
    "### Pre-requisitos:\n",
    "- Não devem ter dados faltantes.\n",
    "- Os dados devem ser numéricos.\n",
    "- Os dados devem ser DataFrames ou Series do Pandas ou matrizes do NumPy."
   ]
  },
  {
   "cell_type": "markdown",
   "id": "99b97299",
   "metadata": {},
   "source": [
    "## Sobre o Dataset `churn_df`"
   ]
  },
  {
   "cell_type": "markdown",
   "id": "90c6fdeb",
   "metadata": {},
   "source": [
    "Contém informações sobre o cancelamento de serviço dos clientes de uma operadora de telecomunicações. \n",
    "\n",
    "Cada linha representa um cliente e as colunas são:\n",
    "\n",
    "* **`account_length`**: há quanto tempo a conta do cliente está ativa.\n",
    "* **`total_day_charge`**: valor total gasto em chamadas durante o dia.\n",
    "* **`total_eve_charge`**: valor total gasto em chamadas durante a noite.\n",
    "* **`total_night_charge`**: valor total gasto em chamadas durante a madrugada.\n",
    "* **`total_intl_charge`**: valor total gasto em chamadas internacionais.\n",
    "* **`customer_service_calls`**: número de vezes que o cliente contatou o serviço de atendimento.\n",
    "* **`churn`**: variável alvo, cliente cancelou o serviço (1) ou não cancelou o serviço (0)."
   ]
  },
  {
   "cell_type": "markdown",
   "id": "eb54a7f0",
   "metadata": {},
   "source": [
    "## Métrica básica da Classificação: *Precisão ou Acurácia*.\n",
    "\n",
    "Acurácia = predições corretas / total  de observações\n",
    "\n",
    "1. Dividir o conjunto de dados em dados de treinamento e dados de teste, onde os dados de teste são 20 ou 30% do total de dados e essa divisão deve refletir a proporção de rótulos dos dados. \n",
    "2. Calcular a acurácia a partir do conjunto de dados de teste.\n",
    "3. Ajustar o modelo KNN com os dados de treinamento.\n",
    "4. Verificar a precisão."
   ]
  },
  {
   "cell_type": "markdown",
   "id": "dc45d95b",
   "metadata": {},
   "source": [
    "## Sobre o Dataset `sales_df`"
   ]
  },
  {
   "cell_type": "markdown",
   "id": "9bb2a879",
   "metadata": {},
   "source": [
    "Contém informações sobre os investimentos em publicidade de uma empresa em diferentes mídias e as vendas resultantes.\n",
    "\n",
    "Cada linha representa um registro de campanha/período e as colunas são:\n",
    "\n",
    "* **`tv`**: investimento em publicidade na televisão.\n",
    "* **`radio`**: investimento em publicidade no rádio.\n",
    "* **`social_media`**: investimento em publicidade em mídias sociais.\n",
    "* **`sales`**: variável alvo, representando o valor total das vendas alcançadas."
   ]
  },
  {
   "cell_type": "markdown",
   "id": "7e059e6f",
   "metadata": {},
   "source": [
    "## Regressão Linear Simples (apenas 1 recurso!):\n",
    "\n",
    "$\n",
    "    y = ax + b, \\quad a,b \\quad \\text{são parâmetros do modelo}\n",
    "$\n",
    "\n",
    "Para encontrar valores de *a* e *b*:\n",
    "1. Definir uma função de erro para qualquer linha.\n",
    "2. Escolher a linha que minimiza a função de erro.\n",
    "\n",
    "OBS: \n",
    "- parâmetros do modelo = coeficientes do modelo\n",
    "- a = inclinação\n",
    "- b = intercepto\n",
    "- funções de erro = funções de perda = funções de custo\n",
    "\n",
    "## Regressão Linear Múltipla (mais de 1 recurso):\n",
    "\n",
    "$\n",
    "    y = a_{1}x_{1} + a_{2}x_{2} + (...) + a_{n}x_{n} + b \n",
    "$"
   ]
  },
  {
   "cell_type": "markdown",
   "id": "0c728430",
   "metadata": {},
   "source": [
    "### Métricas básicas da Regressão para avaliar Performance: *R²*, *erro quadrático médio*"
   ]
  },
  {
   "cell_type": "markdown",
   "id": "50f785f5",
   "metadata": {},
   "source": [
    "#### R²\n",
    "\n",
    "Mede a quantidade de variância na variável alvo.\n",
    "\n",
    "Os valores de R² estão entre 0 e 1.\n",
    "\n",
    "Valores próximos de 1 significa que os dados estão pouco dispersos e há poucos erros na função de erro. Valores próximos de 0 significa que os dados estão muito dispersos e há muitas perdas."
   ]
  },
  {
   "cell_type": "markdown",
   "id": "20e4ad02",
   "metadata": {},
   "source": [
    "#### Erro Quadrático médio (RMSE)\n",
    "\n",
    "Mede o quadrado da diferença entre os valores previstos pelo modelo e os valores reais das observações.\n",
    "\n",
    "Os valores do Erro Quadrático (MSE) seguem a mesma unidade da variável alvo, porém elevado ao quadrado. Para retornar para a unidade original, é necessário calcular a raiz quadrada deste resultado (RMSE)\n",
    "\n",
    "Valores baixos significa que as previsões são próximas dos valores reais e valores altos significa que o modelo tem erros grandes de previsão."
   ]
  }
 ],
 "metadata": {
  "language_info": {
   "name": "python"
  }
 },
 "nbformat": 4,
 "nbformat_minor": 5
}
