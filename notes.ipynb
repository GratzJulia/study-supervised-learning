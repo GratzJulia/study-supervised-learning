{
 "cells": [
  {
   "cell_type": "markdown",
   "id": "1bbd47ba",
   "metadata": {},
   "source": [
    "# Aprendizado Supervisionado\n",
    "### Tipos de Aprendizado Supervisionado:\n",
    "- Classificação: prevê o rótulo/categoria de uma observação.\n",
    "- Regressão: prevê valores contínuos.\n",
    "\n",
    "### Notação:\n",
    "> característica (feature) = variável preditora = variável independente\n",
    "\n",
    "> variável alvo (target) = variável de resposta = variável dependente\n",
    "\n",
    "### Pre-requisitos:\n",
    "- Não devem ter dados faltantes.\n",
    "- Os dados devem ser numéricos.\n",
    "- Os dados devem ser DataFrames ou Series do Pandas ou matrizes do NumPy."
   ]
  },
  {
   "cell_type": "markdown",
   "id": "99b97299",
   "metadata": {},
   "source": [
    "## Sobre o Dataset `churn_df`\n",
    "\n",
    "Contém informações sobre o cancelamento de serviço dos clientes de uma operadora de telecomunicações. \n",
    "\n",
    "Cada linha representa um cliente e as colunas são:\n",
    "\n",
    "* **`account_length`**: há quanto tempo a conta do cliente está ativa.\n",
    "* **`total_day_charge`**: valor total gasto em chamadas durante o dia.\n",
    "* **`total_eve_charge`**: valor total gasto em chamadas durante a noite.\n",
    "* **`total_night_charge`**: valor total gasto em chamadas durante a madrugada.\n",
    "* **`total_intl_charge`**: valor total gasto em chamadas internacionais.\n",
    "* **`customer_service_calls`**: número de vezes que o cliente contatou o serviço de atendimento.\n",
    "* **`churn`**: variável alvo, cliente cancelou o serviço (1) ou não cancelou o serviço (0)."
   ]
  },
  {
   "cell_type": "markdown",
   "id": "eb54a7f0",
   "metadata": {},
   "source": [
    "### Métrica básica da Classificação: *Precisão ou Acurácia*.\n",
    "\n",
    "Acurácia = predições corretas / total  de observações\n",
    "\n",
    "1. Dividir o conjunto de dados em dados de treinamento e dados de teste, onde os dados de teste são 20 ou 30% do total de dados e essa divisão deve refletir a proporção de rótulos dos dados. \n",
    "2. Calcular a acurácia a partir do conjunto de dados de teste.\n",
    "3. Ajustar o modelo KNN com os dados de treinamento.\n",
    "4. Verificar a precisão."
   ]
  }
 ],
 "metadata": {
  "language_info": {
   "name": "python"
  }
 },
 "nbformat": 4,
 "nbformat_minor": 5
}
